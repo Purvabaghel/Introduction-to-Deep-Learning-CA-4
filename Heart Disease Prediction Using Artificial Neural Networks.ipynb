{
 "cells": [
  {
   "cell_type": "markdown",
   "id": "e0034599-5d86-4a62-943d-56119e692e13",
   "metadata": {},
   "source": [
    "# Heart Disease Prediction Using Artificial Neural Networks\n",
    "\n",
    "In this project, we aim to predict whether a patient is at risk of heart disease based on various medical features, including age, cholesterol, blood pressure, and other health-related factors. The dataset we will be using contains information about patients and a target column `has_disease` (0 = No, 1 = Yes). \n",
    "\n",
    "The task involves using deep learning techniques, specifically Artificial Neural Networks (ANNs), to classify whether a patient is likely to develop heart disease based on their medical records. This problem is a binary classification task, where the goal is to predict if a patient has heart disease (1) or not (0).\n",
    "\n",
    "## Problem Statement\n",
    "\n",
    "Given a dataset of patients with various medical records, we need to develop an Artificial Neural Network (ANN) that will classify the patients into two categories:\n",
    "- **has_disease = 0**: Patient does not have heart disease.\n",
    "- **has_disease = 1**: Patient is at risk of heart disease.\n",
    "\n",
    "We will build, train, and evaluate a deep learning model using Keras. The model's goal is to help healthcare professionals identify high-risk patients and provide early interventions.\n",
    "\n",
    "## Why Solve This Problem?\n",
    "\n",
    "Predicting heart disease early can lead to timely medical intervention, reducing the risk of serious complications or even death. Machine learning models can help healthcare professionals make better decisions by analyzing large amounts of data, identifying patterns, and detecting risk factors more accurately.\n",
    "\n",
    "---"
   ]
  },
  {
   "cell_type": "markdown",
   "id": "04429073-d455-46de-9523-7bd0ec4aa018",
   "metadata": {},
   "source": [
    "### Step a: Import Libraries\n",
    "\n",
    "To begin, we need to import the necessary libraries for data processing, model building, and training. We'll be using the following libraries:\n",
    "\n",
    "- **Pandas** and **NumPy** for data manipulation and numerical operations.\n",
    "- **Scikit-learn** for tasks such as splitting the dataset into training and testing sets, scaling features, and computing class weights.\n",
    "- **Keras** (with TensorFlow backend) for building and training the Artificial Neural Network (ANN).\n",
    "\n",
    "Let's import the required libraries now.\n"
   ]
  },
  {
   "cell_type": "code",
   "execution_count": 1,
   "id": "d1e8160d-1ab4-48b5-a989-7da48d1d2ffc",
   "metadata": {},
   "outputs": [],
   "source": [
    "# a. Import Libraries\n",
    "import pandas as pd\n",
    "import numpy as np\n",
    "import matplotlib.pyplot as plt\n",
    "import seaborn as sns\n",
    "\n",
    "from sklearn.model_selection import train_test_split\n",
    "from sklearn.preprocessing import StandardScaler\n",
    "from sklearn.utils import class_weight\n",
    "from sklearn.metrics import classification_report, confusion_matrix, roc_auc_score\n",
    "\n",
    "import tensorflow as tf\n",
    "from tensorflow.keras.models import Sequential\n",
    "from tensorflow.keras.layers import Dense, Dropout"
   ]
  },
  {
   "cell_type": "markdown",
   "id": "a24454c7-c5a5-4ac0-9a61-3a0759cb476c",
   "metadata": {},
   "source": [
    "### Step b: Load Dataset\n",
    "\n",
    "In this step, we will load the dataset containing the patient data. The data is provided in a CSV file format. We'll use **Pandas** to load and explore the dataset. After loading the dataset, we will inspect the first few rows to understand its structure and check for any missing values.\n",
    "\n",
    "Let's load the dataset and preview the first few rows.\n"
   ]
  },
  {
   "cell_type": "code",
   "execution_count": 6,
   "id": "d51fd84e-5f4f-4a85-8ccd-8416635b8119",
   "metadata": {},
   "outputs": [
    {
     "data": {
      "text/html": [
       "<div>\n",
       "<style scoped>\n",
       "    .dataframe tbody tr th:only-of-type {\n",
       "        vertical-align: middle;\n",
       "    }\n",
       "\n",
       "    .dataframe tbody tr th {\n",
       "        vertical-align: top;\n",
       "    }\n",
       "\n",
       "    .dataframe thead th {\n",
       "        text-align: right;\n",
       "    }\n",
       "</style>\n",
       "<table border=\"1\" class=\"dataframe\">\n",
       "  <thead>\n",
       "    <tr style=\"text-align: right;\">\n",
       "      <th></th>\n",
       "      <th>age</th>\n",
       "      <th>sex</th>\n",
       "      <th>cp</th>\n",
       "      <th>trestbps</th>\n",
       "      <th>chol</th>\n",
       "      <th>fbs</th>\n",
       "      <th>restecg</th>\n",
       "      <th>thalach</th>\n",
       "      <th>exang</th>\n",
       "      <th>oldpeak</th>\n",
       "      <th>slope</th>\n",
       "      <th>ca</th>\n",
       "      <th>thal</th>\n",
       "      <th>target</th>\n",
       "    </tr>\n",
       "  </thead>\n",
       "  <tbody>\n",
       "    <tr>\n",
       "      <th>0</th>\n",
       "      <td>52</td>\n",
       "      <td>1</td>\n",
       "      <td>0</td>\n",
       "      <td>125</td>\n",
       "      <td>212</td>\n",
       "      <td>0</td>\n",
       "      <td>1</td>\n",
       "      <td>168</td>\n",
       "      <td>0</td>\n",
       "      <td>1.0</td>\n",
       "      <td>2</td>\n",
       "      <td>2</td>\n",
       "      <td>3</td>\n",
       "      <td>0</td>\n",
       "    </tr>\n",
       "    <tr>\n",
       "      <th>1</th>\n",
       "      <td>53</td>\n",
       "      <td>1</td>\n",
       "      <td>0</td>\n",
       "      <td>140</td>\n",
       "      <td>203</td>\n",
       "      <td>1</td>\n",
       "      <td>0</td>\n",
       "      <td>155</td>\n",
       "      <td>1</td>\n",
       "      <td>3.1</td>\n",
       "      <td>0</td>\n",
       "      <td>0</td>\n",
       "      <td>3</td>\n",
       "      <td>0</td>\n",
       "    </tr>\n",
       "    <tr>\n",
       "      <th>2</th>\n",
       "      <td>70</td>\n",
       "      <td>1</td>\n",
       "      <td>0</td>\n",
       "      <td>145</td>\n",
       "      <td>174</td>\n",
       "      <td>0</td>\n",
       "      <td>1</td>\n",
       "      <td>125</td>\n",
       "      <td>1</td>\n",
       "      <td>2.6</td>\n",
       "      <td>0</td>\n",
       "      <td>0</td>\n",
       "      <td>3</td>\n",
       "      <td>0</td>\n",
       "    </tr>\n",
       "    <tr>\n",
       "      <th>3</th>\n",
       "      <td>61</td>\n",
       "      <td>1</td>\n",
       "      <td>0</td>\n",
       "      <td>148</td>\n",
       "      <td>203</td>\n",
       "      <td>0</td>\n",
       "      <td>1</td>\n",
       "      <td>161</td>\n",
       "      <td>0</td>\n",
       "      <td>0.0</td>\n",
       "      <td>2</td>\n",
       "      <td>1</td>\n",
       "      <td>3</td>\n",
       "      <td>0</td>\n",
       "    </tr>\n",
       "    <tr>\n",
       "      <th>4</th>\n",
       "      <td>62</td>\n",
       "      <td>0</td>\n",
       "      <td>0</td>\n",
       "      <td>138</td>\n",
       "      <td>294</td>\n",
       "      <td>1</td>\n",
       "      <td>1</td>\n",
       "      <td>106</td>\n",
       "      <td>0</td>\n",
       "      <td>1.9</td>\n",
       "      <td>1</td>\n",
       "      <td>3</td>\n",
       "      <td>2</td>\n",
       "      <td>0</td>\n",
       "    </tr>\n",
       "  </tbody>\n",
       "</table>\n",
       "</div>"
      ],
      "text/plain": [
       "   age  sex  cp  trestbps  chol  fbs  restecg  thalach  exang  oldpeak  slope  \\\n",
       "0   52    1   0       125   212    0        1      168      0      1.0      2   \n",
       "1   53    1   0       140   203    1        0      155      1      3.1      0   \n",
       "2   70    1   0       145   174    0        1      125      1      2.6      0   \n",
       "3   61    1   0       148   203    0        1      161      0      0.0      2   \n",
       "4   62    0   0       138   294    1        1      106      0      1.9      1   \n",
       "\n",
       "   ca  thal  target  \n",
       "0   2     3       0  \n",
       "1   0     3       0  \n",
       "2   0     3       0  \n",
       "3   1     3       0  \n",
       "4   3     2       0  "
      ]
     },
     "execution_count": 6,
     "metadata": {},
     "output_type": "execute_result"
    }
   ],
   "source": [
    "# b. Load dataset\n",
    "df = pd.read_csv(\"C:/Users/HP/Downloads/archive (3)/heart.csv\")  # Replace with your file name\n",
    "df.head()"
   ]
  },
  {
   "cell_type": "code",
   "execution_count": 7,
   "id": "94edec02-1eeb-4a65-9095-4ae7e7f9326a",
   "metadata": {},
   "outputs": [
    {
     "name": "stdout",
     "output_type": "stream",
     "text": [
      "<class 'pandas.core.frame.DataFrame'>\n",
      "RangeIndex: 1025 entries, 0 to 1024\n",
      "Data columns (total 14 columns):\n",
      " #   Column    Non-Null Count  Dtype  \n",
      "---  ------    --------------  -----  \n",
      " 0   age       1025 non-null   int64  \n",
      " 1   sex       1025 non-null   int64  \n",
      " 2   cp        1025 non-null   int64  \n",
      " 3   trestbps  1025 non-null   int64  \n",
      " 4   chol      1025 non-null   int64  \n",
      " 5   fbs       1025 non-null   int64  \n",
      " 6   restecg   1025 non-null   int64  \n",
      " 7   thalach   1025 non-null   int64  \n",
      " 8   exang     1025 non-null   int64  \n",
      " 9   oldpeak   1025 non-null   float64\n",
      " 10  slope     1025 non-null   int64  \n",
      " 11  ca        1025 non-null   int64  \n",
      " 12  thal      1025 non-null   int64  \n",
      " 13  target    1025 non-null   int64  \n",
      "dtypes: float64(1), int64(13)\n",
      "memory usage: 112.2 KB\n"
     ]
    }
   ],
   "source": [
    "df.info()"
   ]
  },
  {
   "cell_type": "code",
   "execution_count": 9,
   "id": "4a1bc945-a143-43bb-bd44-f751da7d0f24",
   "metadata": {},
   "outputs": [
    {
     "data": {
      "image/png": "[encoded data removed]",
      "text/plain": [
       "<Figure size 640x480 with 1 Axes>"
      ]
     },
     "metadata": {},
     "output_type": "display_data"
    }
   ],
   "source": [
    "# Optional: Visualize class distribution\n",
    "sns.countplot(x='target', data=df)\n",
    "plt.title(\"Class Distribution\")\n",
    "plt.show()"
   ]
  },
  {
   "cell_type": "code",
   "execution_count": 10,
   "id": "f5d7b8f7-9ec1-4778-9e0a-8e93fbbac91f",
   "metadata": {},
   "outputs": [],
   "source": [
    "# Separate features and target\n",
    "X = df.drop('target', axis=1)\n",
    "y = df['target']"
   ]
  },
  {
   "cell_type": "markdown",
   "id": "fb4bd4df-f35c-4d2f-b1e8-0dd6660f530c",
   "metadata": {},
   "source": [
    "### Step c: Train-Test Split\n",
    "\n",
    "To evaluate the model’s performance, we need to divide the dataset into training and testing sets. The **training set** is used to train the model, while the **testing set** is used to assess how well the model generalizes to new, unseen data.\n",
    "\n",
    "We'll also separate the dataset into:\n",
    "- **Features (`X`)**: All columns except the target (`has_disease`) named here as (`target`)\n",
    "- **Target (`y`)**: The `has_disease` column named here as (`target`)\n",
    "\n",
    "We'll use an 80-20 split, where 80% of the data is used for training and 20% for testing.\n"
   ]
  },
  {
   "cell_type": "code",
   "execution_count": 11,
   "id": "c12cd3ea-a804-4b61-afc1-ffa66f2fb183",
   "metadata": {},
   "outputs": [],
   "source": [
    "# c. Train-test split\n",
    "X_train, X_test, y_train, y_test = train_test_split(X, y, test_size=0.2, stratify=y, random_state=42)"
   ]
  },
  {
   "cell_type": "markdown",
   "id": "2f17b238-62e1-46d8-a83b-23a16f77f20f",
   "metadata": {},
   "source": [
    "### Step d: Feature Scaling\n",
    "\n",
    "Neural networks are sensitive to the scale of input features. Features with larger ranges can dominate the learning process, leading to suboptimal performance.\n",
    "\n",
    "To ensure all features contribute equally, we'll apply **standardization** using `StandardScaler` from Scikit-learn. This will scale the features to have a mean of 0 and a standard deviation of 1.\n",
    "\n",
    "We'll fit the scaler on the training data and apply the same transformation to both the training and testing sets.\n"
   ]
  },
  {
   "cell_type": "code",
   "execution_count": 12,
   "id": "f457d395-c28c-4717-b2d8-79aea02591e2",
   "metadata": {},
   "outputs": [],
   "source": [
    "# d. Feature scaling\n",
    "scaler = StandardScaler()\n",
    "X_train_scaled = scaler.fit_transform(X_train)\n",
    "X_test_scaled = scaler.transform(X_test)"
   ]
  },
  {
   "cell_type": "markdown",
   "id": "b31dfbd3-303b-4473-aaf9-84da506efd50",
   "metadata": {},
   "source": [
    "### Step e: Compute Class Weights\n",
    "\n",
    "In many medical datasets, class imbalance is common—meaning one class (e.g., patients **without** heart disease) may significantly outnumber the other (e.g., patients **with** heart disease). If we ignore this, the model might become biased toward predicting the majority class.\n",
    "\n",
    "To address this, we can compute **class weights**. Class weights assign higher importance to the minority class during training, helping the model learn from both classes more effectively.\n",
    "\n",
    "We'll use `compute_class_weight` from Scikit-learn to calculate the weights.\n"
   ]
  },
  {
   "cell_type": "code",
   "execution_count": 13,
   "id": "d09eec8f-af8a-41c2-a860-ca31ac22bbd5",
   "metadata": {},
   "outputs": [
    {
     "name": "stdout",
     "output_type": "stream",
     "text": [
      "Class Weights: {0: 1.0275689223057645, 1: 0.9738717339667459}\n"
     ]
    }
   ],
   "source": [
    "# e. Compute class weights to handle imbalance\n",
    "weights = class_weight.compute_class_weight(\n",
    "    class_weight='balanced',\n",
    "    classes=np.unique(y_train),\n",
    "    y=y_train\n",
    ")\n",
    "class_weights = {0: weights[0], 1: weights[1]}\n",
    "print(f\"Class Weights: {class_weights}\")"
   ]
  },
  {
   "cell_type": "markdown",
   "id": "d9744bfc-2452-47ec-bc2a-bc890d943138",
   "metadata": {},
   "source": [
    "### Step f: Build the Model\n",
    "\n",
    "Now we’ll build an **Artificial Neural Network (ANN)** using Keras. The model will include:\n",
    "\n",
    "- An **input layer** that matches the number of features.\n",
    "- One or more **hidden layers** with ReLU activation, which helps the model learn non-linear relationships.\n",
    "- An **output layer** with a **sigmoid** activation function since we’re performing **binary classification** (0 = No disease, 1 = Has disease).\n",
    "\n",
    "The sigmoid function outputs a value between 0 and 1, representing the probability of the patient having heart disease.\n",
    "\n",
    "Let's define and compile the model.\n"
   ]
  },
  {
   "cell_type": "code",
   "execution_count": 14,
   "id": "cbea20f9-9c12-4abf-9508-5607cce506ca",
   "metadata": {},
   "outputs": [
    {
     "name": "stderr",
     "output_type": "stream",
     "text": [
      "C:\\python311\\Lib\\site-packages\\keras\\src\\layers\\core\\dense.py:87: UserWarning: Do not pass an `input_shape`/`input_dim` argument to a layer. When using Sequential models, prefer using an `Input(shape)` object as the first layer in the model instead.\n",
      "  super().__init__(activity_regularizer=activity_regularizer, **kwargs)\n"
     ]
    }
   ],
   "source": [
    "# f. Build ANN model\n",
    "model = Sequential()\n",
    "model.add(Dense(64, input_dim=X_train.shape[1], activation='relu'))\n",
    "model.add(Dropout(0.3))\n",
    "model.add(Dense(32, activation='relu'))\n",
    "model.add(Dropout(0.3))\n",
    "model.add(Dense(1, activation='sigmoid'))  # Sigmoid for binary classification"
   ]
  },
  {
   "cell_type": "code",
   "execution_count": 15,
   "id": "8e610b3e-0cff-4873-892c-94bb86a61495",
   "metadata": {},
   "outputs": [],
   "source": [
    "# Compile the model\n",
    "model.compile(optimizer='adam',\n",
    "              loss='binary_crossentropy',\n",
    "              metrics=['accuracy'])"
   ]
  },
  {
   "cell_type": "code",
   "execution_count": 16,
   "id": "c1b598c8-4b2c-4abb-a965-a95fa6bf2be0",
   "metadata": {},
   "outputs": [
    {
     "data": {
      "text/html": [
       "<pre style=\"white-space:pre;overflow-x:auto;line-height:normal;font-family:Menlo,'DejaVu Sans Mono',consolas,'Courier New',monospace\"><span style=\"font-weight: bold\">Model: \"sequential\"</span>\n",
       "</pre>\n"
      ],
      "text/plain": [
       "\u001b[1mModel: \"sequential\"\u001b[0m\n"
      ]
     },
     "metadata": {},
     "output_type": "display_data"
    },
    {
     "data": {
      "text/html": [
       "<pre style=\"white-space:pre;overflow-x:auto;line-height:normal;font-family:Menlo,'DejaVu Sans Mono',consolas,'Courier New',monospace\">┏━━━━━━━━━━━━━━━━━━━━━━━━━━━━━━━━━━━━━━┳━━━━━━━━━━━━━━━━━━━━━━━━━━━━━┳━━━━━━━━━━━━━━━━━┓\n",
       "┃<span style=\"font-weight: bold\"> Layer (type)                         </span>┃<span style=\"font-weight: bold\"> Output Shape                </span>┃<span style=\"font-weight: bold\">         Param # </span>┃\n",
       "┡━━━━━━━━━━━━━━━━━━━━━━━━━━━━━━━━━━━━━━╇━━━━━━━━━━━━━━━━━━━━━━━━━━━━━╇━━━━━━━━━━━━━━━━━┩\n",
       "│ dense (<span style=\"color: #0087ff; text-decoration-color: #0087ff\">Dense</span>)                        │ (<span style=\"color: #00d7ff; text-decoration-color: #00d7ff\">None</span>, <span style=\"color: #00af00; text-decoration-color: #00af00\">64</span>)                  │             <span style=\"color: #00af00; text-decoration-color: #00af00\">896</span> │\n",
       "├──────────────────────────────────────┼─────────────────────────────┼─────────────────┤\n",
       "│ dropout (<span style=\"color: #0087ff; text-decoration-color: #0087ff\">Dropout</span>)                    │ (<span style=\"color: #00d7ff; text-decoration-color: #00d7ff\">None</span>, <span style=\"color: #00af00; text-decoration-color: #00af00\">64</span>)                  │               <span style=\"color: #00af00; text-decoration-color: #00af00\">0</span> │\n",
       "├──────────────────────────────────────┼─────────────────────────────┼─────────────────┤\n",
       "│ dense_1 (<span style=\"color: #0087ff; text-decoration-color: #0087ff\">Dense</span>)                      │ (<span style=\"color: #00d7ff; text-decoration-color: #00d7ff\">None</span>, <span style=\"color: #00af00; text-decoration-color: #00af00\">32</span>)                  │           <span style=\"color: #00af00; text-decoration-color: #00af00\">2,080</span> │\n",
       "├──────────────────────────────────────┼─────────────────────────────┼─────────────────┤\n",
       "│ dropout_1 (<span style=\"color: #0087ff; text-decoration-color: #0087ff\">Dropout</span>)                  │ (<span style=\"color: #00d7ff; text-decoration-color: #00d7ff\">None</span>, <span style=\"color: #00af00; text-decoration-color: #00af00\">32</span>)                  │               <span style=\"color: #00af00; text-decoration-color: #00af00\">0</span> │\n",
       "├──────────────────────────────────────┼─────────────────────────────┼─────────────────┤\n",
       "│ dense_2 (<span style=\"color: #0087ff; text-decoration-color: #0087ff\">Dense</span>)                      │ (<span style=\"color: #00d7ff; text-decoration-color: #00d7ff\">None</span>, <span style=\"color: #00af00; text-decoration-color: #00af00\">1</span>)                   │              <span style=\"color: #00af00; text-decoration-color: #00af00\">33</span> │\n",
       "└──────────────────────────────────────┴─────────────────────────────┴─────────────────┘\n",
       "</pre>\n"
      ],
      "text/plain": [
       "┏━━━━━━━━━━━━━━━━━━━━━━━━━━━━━━━━━━━━━━┳━━━━━━━━━━━━━━━━━━━━━━━━━━━━━┳━━━━━━━━━━━━━━━━━┓\n",
       "┃\u001b[1m \u001b[0m\u001b[1mLayer (type)                        \u001b[0m\u001b[1m \u001b[0m┃\u001b[1m \u001b[0m\u001b[1mOutput Shape               \u001b[0m\u001b[1m \u001b[0m┃\u001b[1m \u001b[0m\u001b[1m        Param #\u001b[0m\u001b[1m \u001b[0m┃\n",
       "┡━━━━━━━━━━━━━━━━━━━━━━━━━━━━━━━━━━━━━━╇━━━━━━━━━━━━━━━━━━━━━━━━━━━━━╇━━━━━━━━━━━━━━━━━┩\n",
       "│ dense (\u001b[38;5;33mDense\u001b[0m)                        │ (\u001b[38;5;45mNone\u001b[0m, \u001b[38;5;34m64\u001b[0m)                  │             \u001b[38;5;34m896\u001b[0m │\n",
       "├──────────────────────────────────────┼─────────────────────────────┼─────────────────┤\n",
       "│ dropout (\u001b[38;5;33mDropout\u001b[0m)                    │ (\u001b[38;5;45mNone\u001b[0m, \u001b[38;5;34m64\u001b[0m)                  │               \u001b[38;5;34m0\u001b[0m │\n",
       "├──────────────────────────────────────┼─────────────────────────────┼─────────────────┤\n",
       "│ dense_1 (\u001b[38;5;33mDense\u001b[0m)                      │ (\u001b[38;5;45mNone\u001b[0m, \u001b[38;5;34m32\u001b[0m)                  │           \u001b[38;5;34m2,080\u001b[0m │\n",
       "├──────────────────────────────────────┼─────────────────────────────┼─────────────────┤\n",
       "│ dropout_1 (\u001b[38;5;33mDropout\u001b[0m)                  │ (\u001b[38;5;45mNone\u001b[0m, \u001b[38;5;34m32\u001b[0m)                  │               \u001b[38;5;34m0\u001b[0m │\n",
       "├──────────────────────────────────────┼─────────────────────────────┼─────────────────┤\n",
       "│ dense_2 (\u001b[38;5;33mDense\u001b[0m)                      │ (\u001b[38;5;45mNone\u001b[0m, \u001b[38;5;34m1\u001b[0m)                   │              \u001b[38;5;34m33\u001b[0m │\n",
       "└──────────────────────────────────────┴─────────────────────────────┴─────────────────┘\n"
      ]
     },
     "metadata": {},
     "output_type": "display_data"
    },
    {
     "data": {
      "text/html": [
       "<pre style=\"white-space:pre;overflow-x:auto;line-height:normal;font-family:Menlo,'DejaVu Sans Mono',consolas,'Courier New',monospace\"><span style=\"font-weight: bold\"> Total params: </span><span style=\"color: #00af00; text-decoration-color: #00af00\">3,009</span> (11.75 KB)\n",
       "</pre>\n"
      ],
      "text/plain": [
       "\u001b[1m Total params: \u001b[0m\u001b[38;5;34m3,009\u001b[0m (11.75 KB)\n"
      ]
     },
     "metadata": {},
     "output_type": "display_data"
    },
    {
     "data": {
      "text/html": [
       "<pre style=\"white-space:pre;overflow-x:auto;line-height:normal;font-family:Menlo,'DejaVu Sans Mono',consolas,'Courier New',monospace\"><span style=\"font-weight: bold\"> Trainable params: </span><span style=\"color: #00af00; text-decoration-color: #00af00\">3,009</span> (11.75 KB)\n",
       "</pre>\n"
      ],
      "text/plain": [
       "\u001b[1m Trainable params: \u001b[0m\u001b[38;5;34m3,009\u001b[0m (11.75 KB)\n"
      ]
     },
     "metadata": {},
     "output_type": "display_data"
    },
    {
     "data": {
      "text/html": [
       "<pre style=\"white-space:pre;overflow-x:auto;line-height:normal;font-family:Menlo,'DejaVu Sans Mono',consolas,'Courier New',monospace\"><span style=\"font-weight: bold\"> Non-trainable params: </span><span style=\"color: #00af00; text-decoration-color: #00af00\">0</span> (0.00 B)\n",
       "</pre>\n"
      ],
      "text/plain": [
       "\u001b[1m Non-trainable params: \u001b[0m\u001b[38;5;34m0\u001b[0m (0.00 B)\n"
      ]
     },
     "metadata": {},
     "output_type": "display_data"
    }
   ],
   "source": [
    "# Show model summary\n",
    "model.summary()"
   ]
  },
  {
   "cell_type": "code",
   "execution_count": 24,
   "id": "f70eb1d6-b80d-49ad-9b66-17fe2ef80820",
   "metadata": {},
   "outputs": [
    {
     "name": "stdout",
     "output_type": "stream",
     "text": [
      "Epoch 1/50\n",
      "21/21 - 0s - 10ms/step - accuracy: 0.9070 - loss: 0.2371 - val_accuracy: 0.8537 - val_loss: 0.3007\n",
      "Epoch 2/50\n",
      "21/21 - 0s - 8ms/step - accuracy: 0.9070 - loss: 0.2188 - val_accuracy: 0.8659 - val_loss: 0.2911\n",
      "Epoch 3/50\n",
      "21/21 - 0s - 8ms/step - accuracy: 0.9101 - loss: 0.2284 - val_accuracy: 0.8780 - val_loss: 0.2860\n",
      "Epoch 4/50\n",
      "21/21 - 0s - 8ms/step - accuracy: 0.9116 - loss: 0.2222 - val_accuracy: 0.8780 - val_loss: 0.2839\n",
      "Epoch 5/50\n",
      "21/21 - 0s - 8ms/step - accuracy: 0.9070 - loss: 0.2267 - val_accuracy: 0.8841 - val_loss: 0.2823\n",
      "Epoch 6/50\n",
      "21/21 - 0s - 8ms/step - accuracy: 0.9223 - loss: 0.2080 - val_accuracy: 0.8841 - val_loss: 0.2745\n",
      "Epoch 7/50\n",
      "21/21 - 0s - 8ms/step - accuracy: 0.9116 - loss: 0.2195 - val_accuracy: 0.8720 - val_loss: 0.2742\n",
      "Epoch 8/50\n",
      "21/21 - 0s - 8ms/step - accuracy: 0.9192 - loss: 0.2249 - val_accuracy: 0.8659 - val_loss: 0.2766\n",
      "Epoch 9/50\n",
      "21/21 - 0s - 8ms/step - accuracy: 0.9192 - loss: 0.2208 - val_accuracy: 0.8537 - val_loss: 0.2786\n",
      "Epoch 10/50\n",
      "21/21 - 0s - 8ms/step - accuracy: 0.9146 - loss: 0.2160 - val_accuracy: 0.8598 - val_loss: 0.2673\n",
      "Epoch 11/50\n",
      "21/21 - 0s - 8ms/step - accuracy: 0.9268 - loss: 0.1942 - val_accuracy: 0.8720 - val_loss: 0.2599\n",
      "Epoch 12/50\n",
      "21/21 - 0s - 8ms/step - accuracy: 0.9177 - loss: 0.2065 - val_accuracy: 0.8841 - val_loss: 0.2545\n",
      "Epoch 13/50\n",
      "21/21 - 0s - 7ms/step - accuracy: 0.9192 - loss: 0.1988 - val_accuracy: 0.9024 - val_loss: 0.2515\n",
      "Epoch 14/50\n",
      "21/21 - 0s - 8ms/step - accuracy: 0.9253 - loss: 0.2020 - val_accuracy: 0.8963 - val_loss: 0.2480\n",
      "Epoch 15/50\n",
      "21/21 - 0s - 8ms/step - accuracy: 0.9207 - loss: 0.2142 - val_accuracy: 0.8963 - val_loss: 0.2419\n",
      "Epoch 16/50\n",
      "21/21 - 0s - 8ms/step - accuracy: 0.9253 - loss: 0.1954 - val_accuracy: 0.8963 - val_loss: 0.2372\n",
      "Epoch 17/50\n",
      "21/21 - 0s - 8ms/step - accuracy: 0.9314 - loss: 0.1843 - val_accuracy: 0.9085 - val_loss: 0.2363\n",
      "Epoch 18/50\n",
      "21/21 - 0s - 9ms/step - accuracy: 0.9162 - loss: 0.1948 - val_accuracy: 0.9024 - val_loss: 0.2372\n",
      "Epoch 19/50\n",
      "21/21 - 0s - 9ms/step - accuracy: 0.9253 - loss: 0.1993 - val_accuracy: 0.8902 - val_loss: 0.2323\n",
      "Epoch 20/50\n",
      "21/21 - 0s - 9ms/step - accuracy: 0.9162 - loss: 0.2158 - val_accuracy: 0.9146 - val_loss: 0.2220\n",
      "Epoch 21/50\n",
      "21/21 - 0s - 9ms/step - accuracy: 0.9238 - loss: 0.1927 - val_accuracy: 0.9085 - val_loss: 0.2191\n",
      "Epoch 22/50\n",
      "21/21 - 0s - 8ms/step - accuracy: 0.9284 - loss: 0.1892 - val_accuracy: 0.9085 - val_loss: 0.2201\n",
      "Epoch 23/50\n",
      "21/21 - 0s - 8ms/step - accuracy: 0.9329 - loss: 0.1722 - val_accuracy: 0.9268 - val_loss: 0.2174\n",
      "Epoch 24/50\n",
      "21/21 - 0s - 7ms/step - accuracy: 0.9253 - loss: 0.1875 - val_accuracy: 0.9146 - val_loss: 0.2207\n",
      "Epoch 25/50\n",
      "21/21 - 0s - 9ms/step - accuracy: 0.9268 - loss: 0.1693 - val_accuracy: 0.9268 - val_loss: 0.2144\n",
      "Epoch 26/50\n",
      "21/21 - 0s - 8ms/step - accuracy: 0.9284 - loss: 0.1805 - val_accuracy: 0.9085 - val_loss: 0.2107\n",
      "Epoch 27/50\n",
      "21/21 - 0s - 8ms/step - accuracy: 0.9146 - loss: 0.1947 - val_accuracy: 0.9085 - val_loss: 0.2092\n",
      "Epoch 28/50\n",
      "21/21 - 0s - 8ms/step - accuracy: 0.9253 - loss: 0.2004 - val_accuracy: 0.9329 - val_loss: 0.2004\n",
      "Epoch 29/50\n",
      "21/21 - 0s - 8ms/step - accuracy: 0.9436 - loss: 0.1634 - val_accuracy: 0.9268 - val_loss: 0.2026\n",
      "Epoch 30/50\n",
      "21/21 - 0s - 8ms/step - accuracy: 0.9314 - loss: 0.1895 - val_accuracy: 0.9146 - val_loss: 0.2000\n",
      "Epoch 31/50\n",
      "21/21 - 0s - 8ms/step - accuracy: 0.9207 - loss: 0.1918 - val_accuracy: 0.9268 - val_loss: 0.1957\n",
      "Epoch 32/50\n",
      "21/21 - 0s - 8ms/step - accuracy: 0.9299 - loss: 0.1698 - val_accuracy: 0.9085 - val_loss: 0.1962\n",
      "Epoch 33/50\n",
      "21/21 - 0s - 8ms/step - accuracy: 0.9299 - loss: 0.1774 - val_accuracy: 0.9146 - val_loss: 0.1953\n",
      "Epoch 34/50\n",
      "21/21 - 0s - 8ms/step - accuracy: 0.9451 - loss: 0.1544 - val_accuracy: 0.9207 - val_loss: 0.1933\n",
      "Epoch 35/50\n",
      "21/21 - 0s - 7ms/step - accuracy: 0.9482 - loss: 0.1600 - val_accuracy: 0.9146 - val_loss: 0.1956\n",
      "Epoch 36/50\n",
      "21/21 - 0s - 8ms/step - accuracy: 0.9390 - loss: 0.1470 - val_accuracy: 0.9146 - val_loss: 0.1986\n",
      "Epoch 37/50\n",
      "21/21 - 0s - 8ms/step - accuracy: 0.9375 - loss: 0.1697 - val_accuracy: 0.9146 - val_loss: 0.1955\n",
      "Epoch 38/50\n",
      "21/21 - 0s - 8ms/step - accuracy: 0.9436 - loss: 0.1607 - val_accuracy: 0.9207 - val_loss: 0.1858\n",
      "Epoch 39/50\n",
      "21/21 - 0s - 8ms/step - accuracy: 0.9405 - loss: 0.1584 - val_accuracy: 0.9207 - val_loss: 0.1907\n",
      "Epoch 40/50\n",
      "21/21 - 0s - 8ms/step - accuracy: 0.9253 - loss: 0.1675 - val_accuracy: 0.9268 - val_loss: 0.1849\n",
      "Epoch 41/50\n",
      "21/21 - 0s - 8ms/step - accuracy: 0.9497 - loss: 0.1354 - val_accuracy: 0.9329 - val_loss: 0.1787\n",
      "Epoch 42/50\n",
      "21/21 - 0s - 7ms/step - accuracy: 0.9405 - loss: 0.1580 - val_accuracy: 0.9329 - val_loss: 0.1804\n",
      "Epoch 43/50\n",
      "21/21 - 0s - 8ms/step - accuracy: 0.9284 - loss: 0.1763 - val_accuracy: 0.9329 - val_loss: 0.1806\n",
      "Epoch 44/50\n",
      "21/21 - 0s - 8ms/step - accuracy: 0.9329 - loss: 0.1603 - val_accuracy: 0.9268 - val_loss: 0.1777\n",
      "Epoch 45/50\n",
      "21/21 - 0s - 9ms/step - accuracy: 0.9482 - loss: 0.1445 - val_accuracy: 0.9268 - val_loss: 0.1737\n",
      "Epoch 46/50\n",
      "21/21 - 0s - 8ms/step - accuracy: 0.9558 - loss: 0.1378 - val_accuracy: 0.9268 - val_loss: 0.1682\n",
      "Epoch 47/50\n",
      "21/21 - 0s - 11ms/step - accuracy: 0.9588 - loss: 0.1250 - val_accuracy: 0.9451 - val_loss: 0.1559\n",
      "Epoch 48/50\n",
      "21/21 - 0s - 8ms/step - accuracy: 0.9466 - loss: 0.1603 - val_accuracy: 0.9512 - val_loss: 0.1537\n",
      "Epoch 49/50\n",
      "21/21 - 0s - 8ms/step - accuracy: 0.9360 - loss: 0.1580 - val_accuracy: 0.9573 - val_loss: 0.1512\n",
      "Epoch 50/50\n",
      "21/21 - 0s - 8ms/step - accuracy: 0.9390 - loss: 0.1635 - val_accuracy: 0.9573 - val_loss: 0.1501\n"
     ]
    }
   ],
   "source": [
    "# Train the model\n",
    "history = model.fit(X_train_scaled, y_train,\n",
    "                    epochs=50,\n",
    "                    batch_size=32,\n",
    "                    class_weight=class_weights,\n",
    "                    validation_split=0.2,\n",
    "                    verbose=2)"
   ]
  },
  {
   "cell_type": "code",
   "execution_count": 25,
   "id": "fdc9bcb2-fe7b-423c-a7d3-0932e66cadb2",
   "metadata": {},
   "outputs": [
    {
     "name": "stdout",
     "output_type": "stream",
     "text": [
      "7/7 - 0s - 11ms/step - accuracy: 0.9561 - loss: 0.1418\n",
      "\n",
      "✅ Test Accuracy: 95.61%\n"
     ]
    }
   ],
   "source": [
    "# Evaluate on test data\n",
    "test_loss, test_accuracy = model.evaluate(X_test_scaled, y_test, verbose=2)\n",
    "print(f\"\\n✅ Test Accuracy: {test_accuracy*100:.2f}%\")"
   ]
  },
  {
   "cell_type": "code",
   "execution_count": 26,
   "id": "5c3396b9-d245-450a-87e5-1bde8290fef8",
   "metadata": {},
   "outputs": [
    {
     "name": "stdout",
     "output_type": "stream",
     "text": [
      "\u001b[1m7/7\u001b[0m \u001b[32m━━━━━━━━━━━━━━━━━━━━\u001b[0m\u001b[37m\u001b[0m \u001b[1m0s\u001b[0m 6ms/step \n",
      "\n",
      "📋 Classification Report:\n",
      "              precision    recall  f1-score   support\n",
      "\n",
      "           0       0.96      0.95      0.95       100\n",
      "           1       0.95      0.96      0.96       105\n",
      "\n",
      "    accuracy                           0.96       205\n",
      "   macro avg       0.96      0.96      0.96       205\n",
      "weighted avg       0.96      0.96      0.96       205\n",
      "\n",
      "📊 Confusion Matrix:\n"
     ]
    },
    {
     "data": {
      "image/png": "[encoded data removed]",
      "text/plain": [
       "<Figure size 640x480 with 2 Axes>"
      ]
     },
     "metadata": {},
     "output_type": "display_data"
    }
   ],
   "source": [
    "# Predict and evaluate further\n",
    "y_pred = (model.predict(X_test_scaled) > 0.5).astype(\"int32\")\n",
    "\n",
    "print(\"\\n📋 Classification Report:\")\n",
    "print(classification_report(y_test, y_pred))\n",
    "\n",
    "print(\"📊 Confusion Matrix:\")\n",
    "sns.heatmap(confusion_matrix(y_test, y_pred), annot=True, fmt='d', cmap='Blues')\n",
    "plt.xlabel(\"Predicted\")\n",
    "plt.ylabel(\"Actual\")\n",
    "plt.show()"
   ]
  },
  {
   "cell_type": "code",
   "execution_count": 27,
   "id": "4efdf9f9-a8ed-4e0c-acb9-9a40284fa80a",
   "metadata": {},
   "outputs": [
    {
     "name": "stdout",
     "output_type": "stream",
     "text": [
      "\u001b[1m7/7\u001b[0m \u001b[32m━━━━━━━━━━━━━━━━━━━━\u001b[0m\u001b[37m\u001b[0m \u001b[1m0s\u001b[0m 9ms/step  \n",
      "\n",
      "🔍 ROC AUC Score: 0.9888\n"
     ]
    }
   ],
   "source": [
    "# ROC AUC Score\n",
    "y_prob = model.predict(X_test_scaled)\n",
    "roc_score = roc_auc_score(y_test, y_prob)\n",
    "print(f\"\\n🔍 ROC AUC Score: {roc_score:.4f}\")"
   ]
  },
  {
   "cell_type": "code",
   "execution_count": 28,
   "id": "37716af0-23cc-4895-81e5-9c4cdb3cb37f",
   "metadata": {},
   "outputs": [
    {
     "data": {
      "text/plain": [
       "<Figure size 1200x500 with 0 Axes>"
      ]
     },
     "execution_count": 28,
     "metadata": {},
     "output_type": "execute_result"
    },
    {
     "data": {
      "text/plain": [
       "<Figure size 1200x500 with 0 Axes>"
      ]
     },
     "metadata": {},
     "output_type": "display_data"
    }
   ],
   "source": [
    "# Optional: Plot accuracy and loss over epochs\n",
    "plt.figure(figsize=(12,5))"
   ]
  },
  {
   "cell_type": "code",
   "execution_count": 29,
   "id": "915dd255-5936-4674-9783-fc621ae78e1a",
   "metadata": {},
   "outputs": [
    {
     "data": {
      "text/plain": [
       "<matplotlib.legend.Legend at 0x1dc738f82d0>"
      ]
     },
     "execution_count": 29,
     "metadata": {},
     "output_type": "execute_result"
    },
    {
     "data": {
      "image/png": "[encoded data removed]",
      "text/plain": [
       "<Figure size 640x480 with 1 Axes>"
      ]
     },
     "metadata": {},
     "output_type": "display_data"
    }
   ],
   "source": [
    "# Accuracy Plot\n",
    "plt.subplot(1,2,1)\n",
    "plt.plot(history.history['accuracy'], label='Train Acc')\n",
    "plt.plot(history.history['val_accuracy'], label='Val Acc')\n",
    "plt.title(\"Accuracy over Epochs\")\n",
    "plt.xlabel(\"Epoch\")\n",
    "plt.ylabel(\"Accuracy\")\n",
    "plt.legend()"
   ]
  },
  {
   "cell_type": "code",
   "execution_count": 30,
   "id": "3db07ac9-47dd-4db1-aa37-98aed31f562b",
   "metadata": {},
   "outputs": [
    {
     "data": {
      "image/png": "[encoded data removed]",
      "text/plain": [
       "<Figure size 640x480 with 1 Axes>"
      ]
     },
     "metadata": {},
     "output_type": "display_data"
    }
   ],
   "source": [
    "# Loss Plot\n",
    "plt.subplot(1,2,2)\n",
    "plt.plot(history.history['loss'], label='Train Loss')\n",
    "plt.plot(history.history['val_loss'], label='Val Loss')\n",
    "plt.title(\"Loss over Epochs\")\n",
    "plt.xlabel(\"Epoch\")\n",
    "plt.ylabel(\"Loss\")\n",
    "plt.legend()\n",
    "\n",
    "plt.tight_layout()\n",
    "plt.show()"
   ]
  },
  {
   "cell_type": "code",
   "execution_count": 33,
   "id": "8a17c2d8-e62a-43b0-b1a6-b2652f8687b6",
   "metadata": {},
   "outputs": [
    {
     "name": "stdout",
     "output_type": "stream",
     "text": [
      "\u001b[1m1/1\u001b[0m \u001b[32m━━━━━━━━━━━━━━━━━━━━\u001b[0m\u001b[37m\u001b[0m \u001b[1m0s\u001b[0m 63ms/step"
     ]
    },
    {
     "name": "stderr",
     "output_type": "stream",
     "text": [
      "C:\\python311\\Lib\\site-packages\\sklearn\\base.py:493: UserWarning: X does not have valid feature names, but StandardScaler was fitted with feature names\n",
      "  warnings.warn(\n"
     ]
    },
    {
     "name": "stdout",
     "output_type": "stream",
     "text": [
      "\u001b[1m1/1\u001b[0m \u001b[32m━━━━━━━━━━━━━━━━━━━━\u001b[0m\u001b[37m\u001b[0m \u001b[1m0s\u001b[0m 109ms/step\n",
      "🩺 Predicted Probability of Heart Disease: 0.0424\n",
      "🧠 Predicted Class: No Risk (0)\n"
     ]
    }
   ],
   "source": [
    "# Example: Unseen patient data (manually input one sample)\n",
    "# Format: [age, sex, cp, trestbps, chol, fbs, restecg, thalach, exang, oldpeak, slope, ca, thal]\n",
    "unseen_patient = np.array([[55, 1, 0, 140, 230, 0, 1, 150, 0, 2.3, 2, 0, 3]])\n",
    "\n",
    "# Step 1: Scale the input using the same scaler used during training\n",
    "unseen_scaled = scaler.transform(unseen_patient)\n",
    "\n",
    "# Step 2: Predict using the trained model\n",
    "prediction_prob = model.predict(unseen_scaled)[0][0]\n",
    "prediction = 1 if prediction_prob > 0.5 else 0\n",
    "\n",
    "# Step 3: Display the prediction\n",
    "print(f\"🩺 Predicted Probability of Heart Disease: {prediction_prob:.4f}\")\n",
    "print(f\"🧠 Predicted Class: {'At Risk (1)' if prediction == 1 else 'No Risk (0)'}\")\n"
   ]
  },
  {
   "cell_type": "code",
   "execution_count": 34,
   "id": "89c9890e-f60d-4911-8c56-4d9654ad2a16",
   "metadata": {},
   "outputs": [
    {
     "name": "stdout",
     "output_type": "stream",
     "text": [
      "\u001b[1m1/1\u001b[0m \u001b[32m━━━━━━━━━━━━━━━━━━━━\u001b[0m\u001b[37m\u001b[0m \u001b[1m0s\u001b[0m 72ms/step\n",
      "🩺 Predicted Probability of Heart Disease: 0.5025\n",
      "🧠 Predicted Class: At Risk (1)\n"
     ]
    },
    {
     "name": "stderr",
     "output_type": "stream",
     "text": [
      "C:\\python311\\Lib\\site-packages\\sklearn\\base.py:493: UserWarning: X does not have valid feature names, but StandardScaler was fitted with feature names\n",
      "  warnings.warn(\n"
     ]
    }
   ],
   "source": [
    "# Example: Unseen patient data (manually input one sample)\n",
    "# Format: [age, sex, cp, trestbps, chol, fbs, restecg, thalach, exang, oldpeak, slope, ca, thal]\n",
    "unseen_patient = np.array([[60, 0, 2, 160, 250, 0, 0, 130, 1, 1.5, 1, 1, 2]])\n",
    "\n",
    "# Step 1: Scale the input using the same scaler used during training\n",
    "unseen_scaled = scaler.transform(unseen_patient)\n",
    "\n",
    "# Step 2: Predict using the trained model\n",
    "prediction_prob = model.predict(unseen_scaled)[0][0]\n",
    "prediction = 1 if prediction_prob > 0.5 else 0\n",
    "\n",
    "# Step 3: Display the prediction\n",
    "print(f\"🩺 Predicted Probability of Heart Disease: {prediction_prob:.4f}\")\n",
    "print(f\"🧠 Predicted Class: {'At Risk (1)' if prediction == 1 else 'No Risk (0)'}\")\n"
   ]
  },
  {
   "cell_type": "code",
   "execution_count": 35,
   "id": "36fe6b95-21a8-44a1-a216-c3e9116c1f35",
   "metadata": {},
   "outputs": [
    {
     "name": "stdout",
     "output_type": "stream",
     "text": [
      "\u001b[1m1/1\u001b[0m \u001b[32m━━━━━━━━━━━━━━━━━━━━\u001b[0m\u001b[37m\u001b[0m \u001b[1m0s\u001b[0m 75ms/step\n",
      "🩺 Predicted Probability of Heart Disease: 0.3978\n",
      "🧠 Predicted Class: No Risk (0)\n"
     ]
    },
    {
     "name": "stderr",
     "output_type": "stream",
     "text": [
      "C:\\python311\\Lib\\site-packages\\sklearn\\base.py:493: UserWarning: X does not have valid feature names, but StandardScaler was fitted with feature names\n",
      "  warnings.warn(\n"
     ]
    }
   ],
   "source": [
    "# Example: Unseen patient data (manually input one sample)\n",
    "# Format: [age, sex, cp, trestbps, chol, fbs, restecg, thalach, exang, oldpeak, slope, ca, thal]\n",
    "unseen_patient = np.array([[45, 1, 0, 130, 200, 0, 1, 170, 0, 0.5, 2, 0, 3]])\n",
    "\n",
    "# Step 1: Scale the input using the same scaler used during training\n",
    "unseen_scaled = scaler.transform(unseen_patient)\n",
    "\n",
    "# Step 2: Predict using the trained model\n",
    "prediction_prob = model.predict(unseen_scaled)[0][0]\n",
    "prediction = 1 if prediction_prob > 0.5 else 0\n",
    "\n",
    "# Step 3: Display the prediction\n",
    "print(f\"🩺 Predicted Probability of Heart Disease: {prediction_prob:.4f}\")\n",
    "print(f\"🧠 Predicted Class: {'At Risk (1)' if prediction == 1 else 'No Risk (0)'}\")\n"
   ]
  },
  {
   "cell_type": "code",
   "execution_count": 36,
   "id": "9f662afe-54ca-486c-af0e-0096782f1279",
   "metadata": {},
   "outputs": [
    {
     "name": "stdout",
     "output_type": "stream",
     "text": [
      "\u001b[1m1/1\u001b[0m \u001b[32m━━━━━━━━━━━━━━━━━━━━\u001b[0m\u001b[37m\u001b[0m \u001b[1m0s\u001b[0m 139ms/step\n"
     ]
    },
    {
     "name": "stderr",
     "output_type": "stream",
     "text": [
      "C:\\python311\\Lib\\site-packages\\sklearn\\base.py:493: UserWarning: X does not have valid feature names, but StandardScaler was fitted with feature names\n",
      "  warnings.warn(\n"
     ]
    },
    {
     "name": "stdout",
     "output_type": "stream",
     "text": [
      "🩺 Predicted Probability of Heart Disease: 0.0008\n",
      "🧠 Predicted Class: No Risk (0)\n"
     ]
    }
   ],
   "source": [
    "# Example: Unseen patient data (manually input one sample)\n",
    "# Format: [age, sex, cp, trestbps, chol, fbs, restecg, thalach, exang, oldpeak, slope, ca, thal]\n",
    "unseen_patient = np.array([[70, 0, 1, 140, 300, 1, 1, 120, 1, 2.0, 1, 2, 2]])\n",
    "\n",
    "# Step 1: Scale the input using the same scaler used during training\n",
    "unseen_scaled = scaler.transform(unseen_patient)\n",
    "\n",
    "# Step 2: Predict using the trained model\n",
    "prediction_prob = model.predict(unseen_scaled)[0][0]\n",
    "prediction = 1 if prediction_prob > 0.5 else 0\n",
    "\n",
    "# Step 3: Display the prediction\n",
    "print(f\"🩺 Predicted Probability of Heart Disease: {prediction_prob:.4f}\")\n",
    "print(f\"🧠 Predicted Class: {'At Risk (1)' if prediction == 1 else 'No Risk (0)'}\")\n"
   ]
  },
  {
   "cell_type": "code",
   "execution_count": 37,
   "id": "b9905c64-b3d5-4d05-8a43-9b260f492a2f",
   "metadata": {},
   "outputs": [
    {
     "name": "stdout",
     "output_type": "stream",
     "text": [
      "\u001b[1m1/1\u001b[0m \u001b[32m━━━━━━━━━━━━━━━━━━━━\u001b[0m\u001b[37m\u001b[0m \u001b[1m0s\u001b[0m 82ms/step\n",
      "🩺 Predicted Probability of Heart Disease: 0.2583\n",
      "🧠 Predicted Class: No Risk (0)\n"
     ]
    },
    {
     "name": "stderr",
     "output_type": "stream",
     "text": [
      "C:\\python311\\Lib\\site-packages\\sklearn\\base.py:493: UserWarning: X does not have valid feature names, but StandardScaler was fitted with feature names\n",
      "  warnings.warn(\n"
     ]
    }
   ],
   "source": [
    "# Example: Unseen patient data (manually input one sample)\n",
    "# Format: [age, sex, cp, trestbps, chol, fbs, restecg, thalach, exang, oldpeak, slope, ca, thal]\n",
    "unseen_patient = np.array([[35, 1, 0, 120, 210, 0, 0, 180, 0, 0.3, 2, 0, 3]])\n",
    "\n",
    "# Step 1: Scale the input using the same scaler used during training\n",
    "unseen_scaled = scaler.transform(unseen_patient)\n",
    "\n",
    "# Step 2: Predict using the trained model\n",
    "prediction_prob = model.predict(unseen_scaled)[0][0]\n",
    "prediction = 1 if prediction_prob > 0.5 else 0\n",
    "\n",
    "# Step 3: Display the prediction\n",
    "print(f\"🩺 Predicted Probability of Heart Disease: {prediction_prob:.4f}\")\n",
    "print(f\"🧠 Predicted Class: {'At Risk (1)' if prediction == 1 else 'No Risk (0)'}\")\n"
   ]
  },
  {
   "cell_type": "code",
   "execution_count": 38,
   "id": "225a8587-6b47-444a-b7e1-4a1068a6333e",
   "metadata": {},
   "outputs": [
    {
     "name": "stdout",
     "output_type": "stream",
     "text": [
      "\u001b[1m1/1\u001b[0m \u001b[32m━━━━━━━━━━━━━━━━━━━━\u001b[0m\u001b[37m\u001b[0m \u001b[1m0s\u001b[0m 79ms/step\n",
      "🩺 Predicted Probability of Heart Disease: 0.0618\n",
      "🧠 Predicted Class: No Risk (0)\n"
     ]
    },
    {
     "name": "stderr",
     "output_type": "stream",
     "text": [
      "C:\\python311\\Lib\\site-packages\\sklearn\\base.py:493: UserWarning: X does not have valid feature names, but StandardScaler was fitted with feature names\n",
      "  warnings.warn(\n"
     ]
    }
   ],
   "source": [
    "# Example: Unseen patient data (manually input one sample)\n",
    "# Format: [age, sex, cp, trestbps, chol, fbs, restecg, thalach, exang, oldpeak, slope, ca, thal]\n",
    "unseen_patient = np.array([[50, 1, 1, 130, 240, 0, 1, 140, 1, 1.0, 2, 1, 3]])\n",
    "\n",
    "# Step 1: Scale the input using the same scaler used during training\n",
    "unseen_scaled = scaler.transform(unseen_patient)\n",
    "\n",
    "# Step 2: Predict using the trained model\n",
    "prediction_prob = model.predict(unseen_scaled)[0][0]\n",
    "prediction = 1 if prediction_prob > 0.5 else 0\n",
    "\n",
    "# Step 3: Display the prediction\n",
    "print(f\"🩺 Predicted Probability of Heart Disease: {prediction_prob:.4f}\")\n",
    "print(f\"🧠 Predicted Class: {'At Risk (1)' if prediction == 1 else 'No Risk (0)'}\")\n"
   ]
  },
  {
   "cell_type": "code",
   "execution_count": null,
   "id": "eb5e8b63-7bf3-4d24-a45e-00a18eb054ba",
   "metadata": {},
   "outputs": [],
   "source": []
  }
 ],
 "metadata": {
  "kernelspec": {
   "display_name": "Python 3 (ipykernel)",
   "language": "python",
   "name": "python3"
  },
  "language_info": {
   "codemirror_mode": {
    "name": "ipython",
    "version": 3
   },
   "file_extension": ".py",
   "mimetype": "text/x-python",
   "name": "python",
   "nbconvert_exporter": "python",
   "pygments_lexer": "ipython3",
   "version": "3.11.9"
  }
 },
 "nbformat": 4,
 "nbformat_minor": 5
}
