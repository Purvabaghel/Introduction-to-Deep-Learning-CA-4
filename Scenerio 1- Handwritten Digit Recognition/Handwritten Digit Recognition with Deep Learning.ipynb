{
 "cells": [
  {
   "cell_type": "markdown",
   "id": "19591ff5-a0ad-477f-9a70-bccf239e5fe3",
   "metadata": {},
   "source": [
    "# 🧠 Handwritten Digit Recognition with Deep Learning\n",
    "\n",
    "## 📘 Introduction\n",
    "\n",
    "In the digital age, automating data entry from physical documents is a powerful tool for increasing productivity. One common use-case is the recognition of handwritten digits, such as those found on receipts, forms, or invoices. Deep learning, particularly neural networks, has proven highly effective in image classification tasks like this. \n",
    "\n",
    "This project focuses on building a deep learning model that can accurately classify handwritten digits using the MNIST dataset—a well-known benchmark in the field of computer vision. The dataset consists of 70,000 grayscale images (28x28 pixels), each representing a single digit from 0 to 9.\n",
    "\n",
    "---\n",
    "\n",
    "## 🧩 Problem Statement\n",
    "\n",
    "A startup is developing a mobile application to scan handwritten receipts and automatically log expenses. Your task as a data scientist is to build and train a deep learning model that can accurately classify handwritten digits captured by the app. The model will be trained using the MNIST dataset and should be able to generalize well to real-world handwriting variations.\n",
    "\n",
    "---\n",
    "\n",
    "## 🛠️ Need to Solve\n",
    "\n",
    "Accurate digit recognition is critical for reducing manual data entry and improving user experience. A robust and efficient classification model will:\n",
    "- Enable the app to log expenses automatically and instantly.\n",
    "- Reduce errors from human data entry.\n",
    "- Serve as a foundation for more advanced handwriting recognition features.\n",
    "\n",
    "This notebook walks through the entire process: from loading the MNIST data, preprocessing it, building and training a neural network, to evaluating its performance and suggesting improvements.\n",
    "\n"
   ]
  },
  {
   "cell_type": "markdown",
   "id": "0d5a2d28-ac3d-4c17-8da3-6a4729bc52fe",
   "metadata": {},
   "source": [
    "## 🛠️ Step a: Importing Required Libraries\n",
    "\n",
    "We begin by importing the essential libraries needed for this deep learning project:\n",
    "\n",
    "- `numpy`: For numerical operations and array handling.\n",
    "- `tensorflow`: A powerful deep learning framework used to build and train neural networks.\n",
    "- `tensorflow.keras.datasets.mnist`: Provides direct access to the MNIST handwritten digit dataset.\n",
    "- `tensorflow.keras.models.Sequential`: Used to create a linear stack of layers for our neural network.\n",
    "- `tensorflow.keras.layers`: Includes different types of layers such as `Dense`, `Flatten`, and `Dropout` used in the model architecture.\n",
    "- `tensorflow.keras.utils.to_categorical`: A utility function to one-hot encode the labels.\n",
    "- `matplotlib.pyplot`: For visualizing training performance and data samples.\n"
   ]
  },
  {
   "cell_type": "code",
   "execution_count": 5,
   "id": "3041c14c-40c8-459b-8e5e-104e9d548780",
   "metadata": {},
   "outputs": [],
   "source": [
    "# a. Import the libraries\n",
    "import numpy as np\n",
    "import tensorflow as tf\n",
    "from tensorflow.keras.datasets import mnist\n",
    "from tensorflow.keras.models import Sequential\n",
    "from tensorflow.keras.layers import Dense, Flatten, Dropout\n",
    "from tensorflow.keras.utils import to_categorical\n",
    "import matplotlib.pyplot as plt"
   ]
  },
  {
   "cell_type": "markdown",
   "id": "89be1bc3-5613-419e-ac03-6ea98a3e6fc6",
   "metadata": {},
   "source": [
    "## 🖼️ Visualizing Sample Images from the MNIST Training Set\n",
    "\n",
    "Before training our model, it's helpful to visually inspect some of the data to understand what we're working with.\n",
    "\n",
    "In this step:\n",
    "- We randomly select and display 9 handwritten digit images from the training set.\n",
    "- Each image is reshaped from a 1D array back to its original 28x28 pixel format for visualization.\n",
    "- We use `matplotlib` to plot these images in a 3x3 grid.\n",
    "- The corresponding label (digit) is displayed as the title above each image.\n",
    "\n",
    "This quick visualization helps confirm that the data is loaded correctly and provides insight into the variation in handwriting styles that the model must learn to classify.\n"
   ]
  },
  {
   "cell_type": "markdown",
   "id": "b8eec962-bf88-451d-98fc-9375fe6dfde1",
   "metadata": {},
   "source": [
    "## 📥 Step b: Loading and Preprocessing the MNIST Dataset\n",
    "\n",
    "In this step:\n",
    "- We load the MNIST dataset using TensorFlow's built-in `mnist.load_data()` function.\n",
    "- The dataset is automatically split into two sets:\n",
    "  - `x_train` and `y_train` for training the model.\n",
    "  - `x_test` and `y_test` for evaluating the model.\n",
    "\n",
    "Each image in `x_train` and `x_test` is a 28x28 pixel grayscale image representing a handwritten digit.\n",
    "The labels (`y_train` and `y_test`) are integers from 0 to 9, corresponding to the digit shown in each image.\n",
    "\n",
    "This dataset forms the foundation for training and testing our deep learning model.\n"
   ]
  },
  {
   "cell_type": "code",
   "execution_count": 8,
   "id": "15b67c98-8bb4-4bb8-b329-38359c1cf19f",
   "metadata": {},
   "outputs": [],
   "source": [
    "# b. Load and preprocess the MNIST dataset\n",
    "(x_train, y_train), (x_test, y_test) = mnist.load_data()"
   ]
  },
  {
   "cell_type": "code",
   "execution_count": 9,
   "id": "9bfe6ac4-b6bf-43b9-9f7b-d4031983bbf6",
   "metadata": {},
   "outputs": [
    {
     "data": {
      "image/png": "[encoded data removed]",
      "text/plain": [
       "<Figure size 600x600 with 9 Axes>"
      ]
     },
     "metadata": {},
     "output_type": "display_data"
    }
   ],
   "source": [
    "# View some sample images from the training set\n",
    "import matplotlib.pyplot as plt\n",
    "\n",
    "# Display 9 random images from the training data\n",
    "plt.figure(figsize=(6, 6))\n",
    "for i in range(9):\n",
    "    index = np.random.randint(0, x_train.shape[0])\n",
    "    image = x_train[index].reshape(28, 28)\n",
    "    label = np.argmax(y_train[index])\n",
    "    plt.subplot(3, 3, i+1)\n",
    "    plt.imshow(image, cmap='gray')\n",
    "    plt.title(f\"Label: {label}\")\n",
    "    plt.axis('off')\n",
    "plt.tight_layout()\n",
    "plt.show()\n"
   ]
  },
  {
   "cell_type": "markdown",
   "id": "d8e776ec-579c-4120-a9d7-8adaee842e34",
   "metadata": {},
   "source": [
    "## 🔄 Step c: Normalizing the Images\n",
    "\n",
    "Neural networks perform better when input features are scaled to a consistent range.\n",
    "\n",
    "In this step:\n",
    "- We normalize the pixel values of the images from the original range [0, 255] to the range [0, 1].\n",
    "- This is done by dividing each pixel value by 255.0.\n",
    "\n",
    "Normalization helps the model converge faster during training and improves overall performance by ensuring that all input features contribute equally.\n"
   ]
  },
  {
   "cell_type": "code",
   "execution_count": 10,
   "id": "eb2c2584-f481-4c04-971f-2e04471c6888",
   "metadata": {},
   "outputs": [],
   "source": [
    "# c. Normalize the images to the range [0, 1]\n",
    "x_train = x_train.astype('float32') / 255.0\n",
    "x_test = x_test.astype('float32') / 255.0"
   ]
  },
  {
   "cell_type": "markdown",
   "id": "003dfe87-70b3-4fc3-9c5d-2495c19b0da5",
   "metadata": {},
   "source": [
    "### Step d: Reshape for the Dense Model (Flatten the 2D 28x28 Images)\n",
    "\n",
    "Since the model we'll use is a fully connected (dense) neural network, we need to flatten the 2D image into a 1D vector of 784 pixels (28x28). This is necessary because the dense layers expect a 1D input.\n",
    "\n",
    "In the case of convolutional neural networks (CNNs), we would keep the 2D structure, but for a basic feedforward model, flattening is a required preprocessing step.\n",
    "\n",
    "Let's flatten the input images into vectors.\n"
   ]
  },
  {
   "cell_type": "code",
   "execution_count": 11,
   "id": "245a442e-e134-448b-aff6-e6ab4a742342",
   "metadata": {},
   "outputs": [],
   "source": [
    "# d. Flatten the 2D 28x28 images to 1D 784 vector\n",
    "x_train = x_train.reshape(-1, 28 * 28)\n",
    "x_test = x_test.reshape(-1, 28 * 28)"
   ]
  },
  {
   "cell_type": "markdown",
   "id": "475269ae-dea0-4be6-8b9f-28bd1a8075b4",
   "metadata": {},
   "source": [
    "### Step e: One-hot Encode the Labels\n",
    "\n",
    "The MNIST dataset labels are integers (0 to 9), but for training a neural network, we typically need to one-hot encode the labels. One-hot encoding transforms the labels into a binary matrix where each class is represented by a vector. For example, the label `3` will be represented as `[0, 0, 0, 1, 0, 0, 0, 0, 0, 0]`, indicating the 3rd class.\n",
    "\n",
    "We will use Keras' `to_categorical` function to one-hot encode the labels.\n"
   ]
  },
  {
   "cell_type": "code",
   "execution_count": 12,
   "id": "c85b295c-a3d7-429a-9dbe-2ffd83ae51b0",
   "metadata": {},
   "outputs": [],
   "source": [
    "# e. One-hot encode the labels\n",
    "y_train = to_categorical(y_train, 10)\n",
    "y_test = to_categorical(y_test, 10)"
   ]
  },
  {
   "cell_type": "markdown",
   "id": "761d63df-7ee5-4a5b-a8bf-2023c90ce9a1",
   "metadata": {},
   "source": [
    "### Step f: Build a Simple Feedforward Neural Network\n",
    "\n",
    "Now that we've preprocessed the data, let's build a simple feedforward neural network (also known as a multi-layer perceptron). This model will consist of:\n",
    "\n",
    "- **Input layer**: The flattened 784 features (pixels).\n",
    "- **Hidden layers**: A couple of fully connected (dense) layers with ReLU activation.\n",
    "- **Output layer**: A dense layer with 10 units (one for each digit) and a softmax activation function, which is ideal for multi-class classification tasks.\n",
    "\n",
    "We'll start with a basic architecture and tune it later if necessary.\n"
   ]
  },
  {
   "cell_type": "code",
   "execution_count": 13,
   "id": "31c32c2e-1edf-4146-9a92-995bfaab8b14",
   "metadata": {},
   "outputs": [
    {
     "name": "stderr",
     "output_type": "stream",
     "text": [
      "C:\\python311\\Lib\\site-packages\\keras\\src\\layers\\core\\dense.py:87: UserWarning: Do not pass an `input_shape`/`input_dim` argument to a layer. When using Sequential models, prefer using an `Input(shape)` object as the first layer in the model instead.\n",
      "  super().__init__(activity_regularizer=activity_regularizer, **kwargs)\n"
     ]
    }
   ],
   "source": [
    "# f. Build a simple feedforward neural network\n",
    "model = Sequential([\n",
    "    Dense(512, activation='relu', input_shape=(784,)),      # Input layer + 1st hidden layer\n",
    "    Dropout(0.2),                                            # Regularization to reduce overfitting\n",
    "    Dense(256, activation='relu'),                          # 2nd hidden layer\n",
    "    Dropout(0.2),\n",
    "    Dense(128, activation='relu'),                          # 3rd hidden layer\n",
    "    Dense(10, activation='softmax')                         # Output layer (10 classes)\n",
    "])"
   ]
  },
  {
   "cell_type": "markdown",
   "id": "43d5c71d-2b0c-4fe2-af1c-fbfc0ef7b173",
   "metadata": {},
   "source": [
    "### Step g: Compile the Model\n",
    "\n",
    "Before we can train the model, we need to compile it. This involves specifying:\n",
    "\n",
    "- **Loss function**: Since we're dealing with a classification problem, we'll use `categorical_crossentropy`, which is commonly used for multi-class classification tasks.\n",
    "- **Optimizer**: We'll use `adam`, which is a popular optimizer for deep learning tasks due to its efficiency.\n",
    "- **Metrics**: We'll use `accuracy` to evaluate the model's performance during training.\n",
    "\n",
    "Let's compile the model now.\n"
   ]
  },
  {
   "cell_type": "code",
   "execution_count": 14,
   "id": "3c253ed8-8415-4007-9a63-467be66dfdd0",
   "metadata": {},
   "outputs": [],
   "source": [
    "# g. Compile the model\n",
    "model.compile(optimizer='adam',\n",
    "              loss='categorical_crossentropy',\n",
    "              metrics=['accuracy'])"
   ]
  },
  {
   "cell_type": "code",
   "execution_count": 15,
   "id": "48019d81-e52a-46f0-9e04-b87750360f5a",
   "metadata": {},
   "outputs": [
    {
     "data": {
      "text/html": [
       "<pre style=\"white-space:pre;overflow-x:auto;line-height:normal;font-family:Menlo,'DejaVu Sans Mono',consolas,'Courier New',monospace\"><span style=\"font-weight: bold\">Model: \"sequential\"</span>\n",
       "</pre>\n"
      ],
      "text/plain": [
       "\u001b[1mModel: \"sequential\"\u001b[0m\n"
      ]
     },
     "metadata": {},
     "output_type": "display_data"
    },
    {
     "data": {
      "text/html": [
       "<pre style=\"white-space:pre;overflow-x:auto;line-height:normal;font-family:Menlo,'DejaVu Sans Mono',consolas,'Courier New',monospace\">┏━━━━━━━━━━━━━━━━━━━━━━━━━━━━━━━━━━━━━━┳━━━━━━━━━━━━━━━━━━━━━━━━━━━━━┳━━━━━━━━━━━━━━━━━┓\n",
       "┃<span style=\"font-weight: bold\"> Layer (type)                         </span>┃<span style=\"font-weight: bold\"> Output Shape                </span>┃<span style=\"font-weight: bold\">         Param # </span>┃\n",
       "┡━━━━━━━━━━━━━━━━━━━━━━━━━━━━━━━━━━━━━━╇━━━━━━━━━━━━━━━━━━━━━━━━━━━━━╇━━━━━━━━━━━━━━━━━┩\n",
       "│ dense (<span style=\"color: #0087ff; text-decoration-color: #0087ff\">Dense</span>)                        │ (<span style=\"color: #00d7ff; text-decoration-color: #00d7ff\">None</span>, <span style=\"color: #00af00; text-decoration-color: #00af00\">512</span>)                 │         <span style=\"color: #00af00; text-decoration-color: #00af00\">401,920</span> │\n",
       "├──────────────────────────────────────┼─────────────────────────────┼─────────────────┤\n",
       "│ dropout (<span style=\"color: #0087ff; text-decoration-color: #0087ff\">Dropout</span>)                    │ (<span style=\"color: #00d7ff; text-decoration-color: #00d7ff\">None</span>, <span style=\"color: #00af00; text-decoration-color: #00af00\">512</span>)                 │               <span style=\"color: #00af00; text-decoration-color: #00af00\">0</span> │\n",
       "├──────────────────────────────────────┼─────────────────────────────┼─────────────────┤\n",
       "│ dense_1 (<span style=\"color: #0087ff; text-decoration-color: #0087ff\">Dense</span>)                      │ (<span style=\"color: #00d7ff; text-decoration-color: #00d7ff\">None</span>, <span style=\"color: #00af00; text-decoration-color: #00af00\">256</span>)                 │         <span style=\"color: #00af00; text-decoration-color: #00af00\">131,328</span> │\n",
       "├──────────────────────────────────────┼─────────────────────────────┼─────────────────┤\n",
       "│ dropout_1 (<span style=\"color: #0087ff; text-decoration-color: #0087ff\">Dropout</span>)                  │ (<span style=\"color: #00d7ff; text-decoration-color: #00d7ff\">None</span>, <span style=\"color: #00af00; text-decoration-color: #00af00\">256</span>)                 │               <span style=\"color: #00af00; text-decoration-color: #00af00\">0</span> │\n",
       "├──────────────────────────────────────┼─────────────────────────────┼─────────────────┤\n",
       "│ dense_2 (<span style=\"color: #0087ff; text-decoration-color: #0087ff\">Dense</span>)                      │ (<span style=\"color: #00d7ff; text-decoration-color: #00d7ff\">None</span>, <span style=\"color: #00af00; text-decoration-color: #00af00\">128</span>)                 │          <span style=\"color: #00af00; text-decoration-color: #00af00\">32,896</span> │\n",
       "├──────────────────────────────────────┼─────────────────────────────┼─────────────────┤\n",
       "│ dense_3 (<span style=\"color: #0087ff; text-decoration-color: #0087ff\">Dense</span>)                      │ (<span style=\"color: #00d7ff; text-decoration-color: #00d7ff\">None</span>, <span style=\"color: #00af00; text-decoration-color: #00af00\">10</span>)                  │           <span style=\"color: #00af00; text-decoration-color: #00af00\">1,290</span> │\n",
       "└──────────────────────────────────────┴─────────────────────────────┴─────────────────┘\n",
       "</pre>\n"
      ],
      "text/plain": [
       "┏━━━━━━━━━━━━━━━━━━━━━━━━━━━━━━━━━━━━━━┳━━━━━━━━━━━━━━━━━━━━━━━━━━━━━┳━━━━━━━━━━━━━━━━━┓\n",
       "┃\u001b[1m \u001b[0m\u001b[1mLayer (type)                        \u001b[0m\u001b[1m \u001b[0m┃\u001b[1m \u001b[0m\u001b[1mOutput Shape               \u001b[0m\u001b[1m \u001b[0m┃\u001b[1m \u001b[0m\u001b[1m        Param #\u001b[0m\u001b[1m \u001b[0m┃\n",
       "┡━━━━━━━━━━━━━━━━━━━━━━━━━━━━━━━━━━━━━━╇━━━━━━━━━━━━━━━━━━━━━━━━━━━━━╇━━━━━━━━━━━━━━━━━┩\n",
       "│ dense (\u001b[38;5;33mDense\u001b[0m)                        │ (\u001b[38;5;45mNone\u001b[0m, \u001b[38;5;34m512\u001b[0m)                 │         \u001b[38;5;34m401,920\u001b[0m │\n",
       "├──────────────────────────────────────┼─────────────────────────────┼─────────────────┤\n",
       "│ dropout (\u001b[38;5;33mDropout\u001b[0m)                    │ (\u001b[38;5;45mNone\u001b[0m, \u001b[38;5;34m512\u001b[0m)                 │               \u001b[38;5;34m0\u001b[0m │\n",
       "├──────────────────────────────────────┼─────────────────────────────┼─────────────────┤\n",
       "│ dense_1 (\u001b[38;5;33mDense\u001b[0m)                      │ (\u001b[38;5;45mNone\u001b[0m, \u001b[38;5;34m256\u001b[0m)                 │         \u001b[38;5;34m131,328\u001b[0m │\n",
       "├──────────────────────────────────────┼─────────────────────────────┼─────────────────┤\n",
       "│ dropout_1 (\u001b[38;5;33mDropout\u001b[0m)                  │ (\u001b[38;5;45mNone\u001b[0m, \u001b[38;5;34m256\u001b[0m)                 │               \u001b[38;5;34m0\u001b[0m │\n",
       "├──────────────────────────────────────┼─────────────────────────────┼─────────────────┤\n",
       "│ dense_2 (\u001b[38;5;33mDense\u001b[0m)                      │ (\u001b[38;5;45mNone\u001b[0m, \u001b[38;5;34m128\u001b[0m)                 │          \u001b[38;5;34m32,896\u001b[0m │\n",
       "├──────────────────────────────────────┼─────────────────────────────┼─────────────────┤\n",
       "│ dense_3 (\u001b[38;5;33mDense\u001b[0m)                      │ (\u001b[38;5;45mNone\u001b[0m, \u001b[38;5;34m10\u001b[0m)                  │           \u001b[38;5;34m1,290\u001b[0m │\n",
       "└──────────────────────────────────────┴─────────────────────────────┴─────────────────┘\n"
      ]
     },
     "metadata": {},
     "output_type": "display_data"
    },
    {
     "data": {
      "text/html": [
       "<pre style=\"white-space:pre;overflow-x:auto;line-height:normal;font-family:Menlo,'DejaVu Sans Mono',consolas,'Courier New',monospace\"><span style=\"font-weight: bold\"> Total params: </span><span style=\"color: #00af00; text-decoration-color: #00af00\">567,434</span> (2.16 MB)\n",
       "</pre>\n"
      ],
      "text/plain": [
       "\u001b[1m Total params: \u001b[0m\u001b[38;5;34m567,434\u001b[0m (2.16 MB)\n"
      ]
     },
     "metadata": {},
     "output_type": "display_data"
    },
    {
     "data": {
      "text/html": [
       "<pre style=\"white-space:pre;overflow-x:auto;line-height:normal;font-family:Menlo,'DejaVu Sans Mono',consolas,'Courier New',monospace\"><span style=\"font-weight: bold\"> Trainable params: </span><span style=\"color: #00af00; text-decoration-color: #00af00\">567,434</span> (2.16 MB)\n",
       "</pre>\n"
      ],
      "text/plain": [
       "\u001b[1m Trainable params: \u001b[0m\u001b[38;5;34m567,434\u001b[0m (2.16 MB)\n"
      ]
     },
     "metadata": {},
     "output_type": "display_data"
    },
    {
     "data": {
      "text/html": [
       "<pre style=\"white-space:pre;overflow-x:auto;line-height:normal;font-family:Menlo,'DejaVu Sans Mono',consolas,'Courier New',monospace\"><span style=\"font-weight: bold\"> Non-trainable params: </span><span style=\"color: #00af00; text-decoration-color: #00af00\">0</span> (0.00 B)\n",
       "</pre>\n"
      ],
      "text/plain": [
       "\u001b[1m Non-trainable params: \u001b[0m\u001b[38;5;34m0\u001b[0m (0.00 B)\n"
      ]
     },
     "metadata": {},
     "output_type": "display_data"
    }
   ],
   "source": [
    "# Show model summary\n",
    "model.summary()"
   ]
  },
  {
   "cell_type": "markdown",
   "id": "30bf992a-9c22-49db-aa66-38a1ff6991fa",
   "metadata": {},
   "source": [
    "### Step h: Train the Model\n",
    "\n",
    "Now that we have compiled the model, it's time to train it. We'll use the training data (`X_train_flattened` and `y_train_one_hot`) and train the model for a specified number of epochs. \n",
    "\n",
    "We'll also provide a validation set, which will be used to evaluate the model's performance on unseen data after each epoch. This helps in understanding if the model is overfitting or underfitting.\n",
    "\n",
    "Let’s train the model for 10 epochs and use a batch size of 32.\n"
   ]
  },
  {
   "cell_type": "code",
   "execution_count": 16,
   "id": "689b5c64-046f-4943-828b-2b4e9cdd7755",
   "metadata": {},
   "outputs": [
    {
     "name": "stdout",
     "output_type": "stream",
     "text": [
      "Epoch 1/15\n",
      "375/375 - 5s - 14ms/step - accuracy: 0.9082 - loss: 0.3046 - val_accuracy: 0.9664 - val_loss: 0.1176\n",
      "Epoch 2/15\n",
      "375/375 - 3s - 9ms/step - accuracy: 0.9646 - loss: 0.1181 - val_accuracy: 0.9724 - val_loss: 0.0897\n",
      "Epoch 3/15\n",
      "375/375 - 4s - 10ms/step - accuracy: 0.9729 - loss: 0.0847 - val_accuracy: 0.9722 - val_loss: 0.0925\n",
      "Epoch 4/15\n",
      "375/375 - 4s - 10ms/step - accuracy: 0.9795 - loss: 0.0671 - val_accuracy: 0.9759 - val_loss: 0.0810\n",
      "Epoch 5/15\n",
      "375/375 - 4s - 9ms/step - accuracy: 0.9812 - loss: 0.0592 - val_accuracy: 0.9783 - val_loss: 0.0836\n",
      "Epoch 6/15\n",
      "375/375 - 3s - 8ms/step - accuracy: 0.9851 - loss: 0.0461 - val_accuracy: 0.9768 - val_loss: 0.0834\n",
      "Epoch 7/15\n",
      "375/375 - 3s - 9ms/step - accuracy: 0.9859 - loss: 0.0444 - val_accuracy: 0.9767 - val_loss: 0.0805\n",
      "Epoch 8/15\n",
      "375/375 - 3s - 8ms/step - accuracy: 0.9881 - loss: 0.0358 - val_accuracy: 0.9790 - val_loss: 0.0788\n",
      "Epoch 9/15\n",
      "375/375 - 3s - 8ms/step - accuracy: 0.9893 - loss: 0.0317 - val_accuracy: 0.9776 - val_loss: 0.0930\n",
      "Epoch 10/15\n",
      "375/375 - 3s - 9ms/step - accuracy: 0.9898 - loss: 0.0305 - val_accuracy: 0.9778 - val_loss: 0.0898\n",
      "Epoch 11/15\n",
      "375/375 - 3s - 9ms/step - accuracy: 0.9904 - loss: 0.0284 - val_accuracy: 0.9772 - val_loss: 0.0872\n",
      "Epoch 12/15\n",
      "375/375 - 3s - 9ms/step - accuracy: 0.9924 - loss: 0.0238 - val_accuracy: 0.9808 - val_loss: 0.0809\n",
      "Epoch 13/15\n",
      "375/375 - 3s - 9ms/step - accuracy: 0.9915 - loss: 0.0261 - val_accuracy: 0.9799 - val_loss: 0.0885\n",
      "Epoch 14/15\n",
      "375/375 - 3s - 9ms/step - accuracy: 0.9915 - loss: 0.0259 - val_accuracy: 0.9795 - val_loss: 0.0949\n",
      "Epoch 15/15\n",
      "375/375 - 3s - 9ms/step - accuracy: 0.9935 - loss: 0.0201 - val_accuracy: 0.9787 - val_loss: 0.0990\n"
     ]
    }
   ],
   "source": [
    "# h. Train the model\n",
    "history = model.fit(x_train, y_train,\n",
    "                    epochs=15,\n",
    "                    batch_size=128,\n",
    "                    validation_split=0.2,\n",
    "                    verbose=2)"
   ]
  },
  {
   "cell_type": "markdown",
   "id": "18c0788f-6bee-489b-af08-fcfbbe55f0ad",
   "metadata": {},
   "source": [
    "### Step i: Evaluate the Model\n",
    "\n",
    "After training the model, it's important to evaluate its performance on the test dataset (`X_test_flattened` and `y_test_one_hot`). This allows us to see how well the model generalizes to new, unseen data.\n",
    "\n",
    "We will use the `evaluate()` function, which returns the loss and accuracy of the model on the test data.\n",
    "\n",
    "Let's evaluate the model now.\n"
   ]
  },
  {
   "cell_type": "code",
   "execution_count": 17,
   "id": "acc44912-05c6-4ac4-88d7-811a6579f8fa",
   "metadata": {},
   "outputs": [
    {
     "name": "stdout",
     "output_type": "stream",
     "text": [
      "313/313 - 1s - 2ms/step - accuracy: 0.9808 - loss: 0.0804\n",
      "\n",
      "🎯 Test Accuracy: 98.08%\n"
     ]
    }
   ],
   "source": [
    "# i. Evaluate the model\n",
    "test_loss, test_accuracy = model.evaluate(x_test, y_test, verbose=2)\n",
    "print(f\"\\n🎯 Test Accuracy: {test_accuracy*100:.2f}%\")"
   ]
  },
  {
   "cell_type": "code",
   "execution_count": 18,
   "id": "f860be1f-e045-4a65-9716-247bb46b9727",
   "metadata": {},
   "outputs": [
    {
     "data": {
      "text/plain": [
       "<Figure size 1200x500 with 0 Axes>"
      ]
     },
     "execution_count": 18,
     "metadata": {},
     "output_type": "execute_result"
    },
    {
     "data": {
      "text/plain": [
       "<Figure size 1200x500 with 0 Axes>"
      ]
     },
     "metadata": {},
     "output_type": "display_data"
    }
   ],
   "source": [
    "# Optional: Plot training history\n",
    "plt.figure(figsize=(12, 5))"
   ]
  },
  {
   "cell_type": "code",
   "execution_count": 19,
   "id": "8b15ad84-6877-495c-a7ba-48d5cacb1027",
   "metadata": {},
   "outputs": [
    {
     "data": {
      "text/plain": [
       "<matplotlib.legend.Legend at 0x21e38e31e10>"
      ]
     },
     "execution_count": 19,
     "metadata": {},
     "output_type": "execute_result"
    },
    {
     "data": {
      "image/png": "[encoded data removed]",
      "text/plain": [
       "<Figure size 640x480 with 1 Axes>"
      ]
     },
     "metadata": {},
     "output_type": "display_data"
    }
   ],
   "source": [
    "# Accuracy\n",
    "plt.subplot(1, 2, 1)\n",
    "plt.plot(history.history['accuracy'], label='Train Acc')\n",
    "plt.plot(history.history['val_accuracy'], label='Val Acc')\n",
    "plt.title('Accuracy over Epochs')\n",
    "plt.xlabel('Epoch')\n",
    "plt.ylabel('Accuracy')\n",
    "plt.legend()"
   ]
  },
  {
   "cell_type": "code",
   "execution_count": 20,
   "id": "65693f45-f87b-4bc4-9223-53433cc25a01",
   "metadata": {},
   "outputs": [
    {
     "data": {
      "image/png": "[encoded data removed]",
      "text/plain": [
       "<Figure size 640x480 with 1 Axes>"
      ]
     },
     "metadata": {},
     "output_type": "display_data"
    }
   ],
   "source": [
    "# Loss\n",
    "plt.subplot(1, 2, 2)\n",
    "plt.plot(history.history['loss'], label='Train Loss')\n",
    "plt.plot(history.history['val_loss'], label='Val Loss')\n",
    "plt.title('Loss over Epochs')\n",
    "plt.xlabel('Epoch')\n",
    "plt.ylabel('Loss')\n",
    "plt.legend()\n",
    "\n",
    "plt.tight_layout()\n",
    "plt.show()"
   ]
  },
  {
   "cell_type": "code",
   "execution_count": 24,
   "id": "d6e2448c-2de3-4e36-84ee-20f191da7246",
   "metadata": {},
   "outputs": [
    {
     "name": "stdout",
     "output_type": "stream",
     "text": [
      "\u001b[1m1/1\u001b[0m \u001b[32m━━━━━━━━━━━━━━━━━━━━\u001b[0m\u001b[37m\u001b[0m \u001b[1m0s\u001b[0m 55ms/step\n"
     ]
    },
    {
     "data": {
      "image/png": "[encoded data removed]",
      "text/plain": [
       "<Figure size 640x480 with 1 Axes>"
      ]
     },
     "metadata": {},
     "output_type": "display_data"
    }
   ],
   "source": [
    "# Select a random test image\n",
    "random_index = np.random.randint(0, x_test.shape[0])\n",
    "test_image = x_test[random_index].reshape(1, 784)  # Reshape for prediction\n",
    "true_label = np.argmax(y_test[random_index])       # Actual label\n",
    "\n",
    "# Predict using the trained model\n",
    "prediction = model.predict(test_image)\n",
    "predicted_label = np.argmax(prediction)\n",
    "\n",
    "# Display the image and the prediction\n",
    "plt.imshow(test_image.reshape(28, 28), cmap='gray')\n",
    "plt.title(f\"Predicted: {predicted_label}, Actual: {true_label}\")\n",
    "plt.axis('off')\n",
    "plt.show()\n"
   ]
  },
  {
   "cell_type": "code",
   "execution_count": 25,
   "id": "4d783b45-8cde-4171-b9f8-4c6e64913907",
   "metadata": {},
   "outputs": [
    {
     "name": "stdout",
     "output_type": "stream",
     "text": [
      "\u001b[1m1/1\u001b[0m \u001b[32m━━━━━━━━━━━━━━━━━━━━\u001b[0m\u001b[37m\u001b[0m \u001b[1m0s\u001b[0m 58ms/step\n"
     ]
    },
    {
     "data": {
      "image/png": "[encoded data removed]",
      "text/plain": [
       "<Figure size 640x480 with 1 Axes>"
      ]
     },
     "metadata": {},
     "output_type": "display_data"
    }
   ],
   "source": [
    "# Select a random test image\n",
    "random_index = np.random.randint(0, x_test.shape[0])\n",
    "test_image = x_test[random_index].reshape(1, 784)  # Reshape for prediction\n",
    "true_label = np.argmax(y_test[random_index])       # Actual label\n",
    "\n",
    "# Predict using the trained model\n",
    "prediction = model.predict(test_image)\n",
    "predicted_label = np.argmax(prediction)\n",
    "\n",
    "# Display the image and the prediction\n",
    "plt.imshow(test_image.reshape(28, 28), cmap='gray')\n",
    "plt.title(f\"Predicted: {predicted_label}, Actual: {true_label}\")\n",
    "plt.axis('off')\n",
    "plt.show()\n"
   ]
  },
  {
   "cell_type": "code",
   "execution_count": 26,
   "id": "defd0404-340d-4c64-92c8-2d17a05104fd",
   "metadata": {},
   "outputs": [
    {
     "name": "stdout",
     "output_type": "stream",
     "text": [
      "\u001b[1m1/1\u001b[0m \u001b[32m━━━━━━━━━━━━━━━━━━━━\u001b[0m\u001b[37m\u001b[0m \u001b[1m0s\u001b[0m 66ms/step\n"
     ]
    },
    {
     "data": {
      "image/png": "[encoded data removed]",
      "text/plain": [
       "<Figure size 640x480 with 1 Axes>"
      ]
     },
     "metadata": {},
     "output_type": "display_data"
    }
   ],
   "source": [
    "# Select a random test image\n",
    "random_index = np.random.randint(0, x_test.shape[0])\n",
    "test_image = x_test[random_index].reshape(1, 784)  # Reshape for prediction\n",
    "true_label = np.argmax(y_test[random_index])       # Actual label\n",
    "\n",
    "# Predict using the trained model\n",
    "prediction = model.predict(test_image)\n",
    "predicted_label = np.argmax(prediction)\n",
    "\n",
    "# Display the image and the prediction\n",
    "plt.imshow(test_image.reshape(28, 28), cmap='gray')\n",
    "plt.title(f\"Predicted: {predicted_label}, Actual: {true_label}\")\n",
    "plt.axis('off')\n",
    "plt.show()\n"
   ]
  },
  {
   "cell_type": "code",
   "execution_count": null,
   "id": "395b8cec-46e4-48ab-987a-311800b0ce32",
   "metadata": {},
   "outputs": [],
   "source": []
  }
 ],
 "metadata": {
  "kernelspec": {
   "display_name": "Python 3 (ipykernel)",
   "language": "python",
   "name": "python3"
  },
  "language_info": {
   "codemirror_mode": {
    "name": "ipython",
    "version": 3
   },
   "file_extension": ".py",
   "mimetype": "text/x-python",
   "name": "python",
   "nbconvert_exporter": "python",
   "pygments_lexer": "ipython3",
   "version": "3.11.9"
  }
 },
 "nbformat": 4,
 "nbformat_minor": 5
}
